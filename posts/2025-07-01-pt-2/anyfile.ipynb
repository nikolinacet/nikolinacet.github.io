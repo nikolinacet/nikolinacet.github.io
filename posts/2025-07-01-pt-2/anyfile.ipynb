{
 "cells": [
  {
   "cell_type": "markdown",
   "metadata": {},
   "source": [
    "---\n",
    "title: \"My Second Post\"\n",
    "date: \"2025-07-01\"\n",
    "categories:\n",
    "  - tag1\n",
    "  - tag2\n",
    "  - another_tag\n",
    "---"
   ]
  },
  {
   "cell_type": "markdown",
   "metadata": {},
   "source": [
    "hello my meemoos"
   ]
  },
  {
   "cell_type": "markdown",
   "metadata": {},
   "source": [
    "i want to write in paragraphs\n",
    "\n",
    "i'm going to write paragraphs. but if i want to keep writing, what will this do. i want paragraphs so much. so many paragraphs rosie rosie rosie rosie"
   ]
  },
  {
   "cell_type": "code",
   "execution_count": null,
   "metadata": {
    "vscode": {
     "languageId": "plaintext"
    }
   },
   "outputs": [],
   "source": []
  },
  {
   "cell_type": "markdown",
   "metadata": {},
   "source": [
    "\n",
    "<div style=\"text-align: center;\">\n",
    "  <img src=\"./imgs/image.png\" alt=\"Alt text\" width=\"300\" />\n",
    "</div>"
   ]
  },
  {
   "cell_type": "markdown",
   "metadata": {},
   "source": [
    "![doggo](imgs/image.png)"
   ]
  }
 ],
 "metadata": {
  "language_info": {
   "name": "python"
  }
 },
 "nbformat": 4,
 "nbformat_minor": 2
}
